{
 "cells": [
  {
   "cell_type": "markdown",
   "id": "6c65a1c3",
   "metadata": {},
   "source": [
    "Triangular Numbers - 1,3,6,10,15,..."
   ]
  },
  {
   "cell_type": "code",
   "execution_count": null,
   "id": "2fd0b8b0",
   "metadata": {},
   "outputs": [],
   "source": [
    "def triangular_number(nth: int):\n",
    "    total = 0\n",
    "    for n in range(nth, 0 , -1):\n",
    "        total += n\n",
    "    return total\n",
    "\n",
    "res = triangular_number(4)\n",
    "print(res)"
   ]
  },
  {
   "cell_type": "markdown",
   "id": "e9a5bc88",
   "metadata": {},
   "source": [
    "Using Rescursion"
   ]
  },
  {
   "cell_type": "code",
   "execution_count": null,
   "id": "c5f4e078",
   "metadata": {},
   "outputs": [],
   "source": [
    "def triangular(nth):\n",
    "    # base case \n",
    "    if nth < 1: \n",
    "        return 0\n",
    "    return nth + triangular(nth  - 1)"
   ]
  },
  {
   "cell_type": "code",
   "execution_count": null,
   "id": "c52fa144",
   "metadata": {},
   "outputs": [],
   "source": [
    "def factorial(number):\n",
    "    if number == 0:\n",
    "        return 1\n",
    "    return number * factorial(number - 1)\n",
    "\n",
    "print(factorial(5))"
   ]
  },
  {
   "cell_type": "markdown",
   "id": "ab100694",
   "metadata": {},
   "source": [
    "Anagrams of a Word"
   ]
  },
  {
   "cell_type": "code",
   "execution_count": null,
   "id": "a4405815",
   "metadata": {},
   "outputs": [],
   "source": [
    "def anagrams(word): \n",
    "    if len(word) <= 1: \n",
    "        return [word] \n",
    "    result = [] \n",
    "    for part in anagrams(word[1:]): \n",
    "        for i in range(len(part) + 1):\n",
    "            result.append( \n",
    "            part[:i] + \n",
    "            word[0] + \n",
    "            part[i:]) \n",
    "    return result"
   ]
  }
 ],
 "metadata": {
  "kernelspec": {
   "display_name": "base",
   "language": "python",
   "name": "python3"
  },
  "language_info": {
   "codemirror_mode": {
    "name": "ipython",
    "version": 3
   },
   "file_extension": ".py",
   "mimetype": "text/x-python",
   "name": "python",
   "nbconvert_exporter": "python",
   "pygments_lexer": "ipython3",
   "version": "3.12.7"
  }
 },
 "nbformat": 4,
 "nbformat_minor": 5
}
